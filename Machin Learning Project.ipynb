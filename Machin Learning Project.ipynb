{
 "cells": [
  {
   "cell_type": "markdown",
   "id": "2b2ddc2f-bee5-48bb-bc32-212375f55f73",
   "metadata": {},
   "source": [
    " # Machine Learning project"
   ]
  },
  {
   "cell_type": "code",
   "execution_count": 46,
   "id": "7deed2bd-3768-48b5-8d23-b5c0af12cfff",
   "metadata": {},
   "outputs": [],
   "source": [
    "import pandas as pd\n",
    "import numpy as np\n",
    "import warnings\n",
    "warnings.filterwarnings('ignore')\n",
    "from sklearn.model_selection import train_test_split, GridSearchCV\n",
    "from sklearn.preprocessing import StandardScaler, LabelEncoder\n",
    "from sklearn.linear_model import LinearRegression\n",
    "from sklearn.tree import DecisionTreeRegressor\n",
    "from sklearn.ensemble import RandomForestRegressor, GradientBoostingRegressor\n",
    "from sklearn.svm import SVR\n",
    "from sklearn.metrics import r2_score, mean_squared_error, mean_absolute_error\n",
    "import matplotlib.pyplot as plt\n",
    "import seaborn as sns"
   ]
  },
  {
   "cell_type": "code",
   "execution_count": 7,
   "id": "2a2f8fff-f1f1-4be2-af32-7e5a6967fac7",
   "metadata": {},
   "outputs": [],
   "source": [
    "# 1. Loading and Preprocessing\n",
    "df = pd.read_csv(\"CarPrice_Assignment.csv\")"
   ]
  },
  {
   "cell_type": "code",
   "execution_count": 9,
   "id": "f28725f0-5c0b-4197-91a7-3a41afbdaca1",
   "metadata": {},
   "outputs": [
    {
     "data": {
      "text/plain": [
       "<bound method DataFrame.info of      car_ID  symboling                   CarName fueltype aspiration  \\\n",
       "0         1          3        alfa-romero giulia      gas        std   \n",
       "1         2          3       alfa-romero stelvio      gas        std   \n",
       "2         3          1  alfa-romero Quadrifoglio      gas        std   \n",
       "3         4          2               audi 100 ls      gas        std   \n",
       "4         5          2                audi 100ls      gas        std   \n",
       "..      ...        ...                       ...      ...        ...   \n",
       "200     201         -1           volvo 145e (sw)      gas        std   \n",
       "201     202         -1               volvo 144ea      gas      turbo   \n",
       "202     203         -1               volvo 244dl      gas        std   \n",
       "203     204         -1                 volvo 246   diesel      turbo   \n",
       "204     205         -1               volvo 264gl      gas      turbo   \n",
       "\n",
       "    doornumber      carbody drivewheel enginelocation  wheelbase  ...  \\\n",
       "0          two  convertible        rwd          front       88.6  ...   \n",
       "1          two  convertible        rwd          front       88.6  ...   \n",
       "2          two    hatchback        rwd          front       94.5  ...   \n",
       "3         four        sedan        fwd          front       99.8  ...   \n",
       "4         four        sedan        4wd          front       99.4  ...   \n",
       "..         ...          ...        ...            ...        ...  ...   \n",
       "200       four        sedan        rwd          front      109.1  ...   \n",
       "201       four        sedan        rwd          front      109.1  ...   \n",
       "202       four        sedan        rwd          front      109.1  ...   \n",
       "203       four        sedan        rwd          front      109.1  ...   \n",
       "204       four        sedan        rwd          front      109.1  ...   \n",
       "\n",
       "     enginesize  fuelsystem  boreratio  stroke compressionratio horsepower  \\\n",
       "0           130        mpfi       3.47    2.68              9.0        111   \n",
       "1           130        mpfi       3.47    2.68              9.0        111   \n",
       "2           152        mpfi       2.68    3.47              9.0        154   \n",
       "3           109        mpfi       3.19    3.40             10.0        102   \n",
       "4           136        mpfi       3.19    3.40              8.0        115   \n",
       "..          ...         ...        ...     ...              ...        ...   \n",
       "200         141        mpfi       3.78    3.15              9.5        114   \n",
       "201         141        mpfi       3.78    3.15              8.7        160   \n",
       "202         173        mpfi       3.58    2.87              8.8        134   \n",
       "203         145         idi       3.01    3.40             23.0        106   \n",
       "204         141        mpfi       3.78    3.15              9.5        114   \n",
       "\n",
       "     peakrpm citympg  highwaympg    price  \n",
       "0       5000      21          27  13495.0  \n",
       "1       5000      21          27  16500.0  \n",
       "2       5000      19          26  16500.0  \n",
       "3       5500      24          30  13950.0  \n",
       "4       5500      18          22  17450.0  \n",
       "..       ...     ...         ...      ...  \n",
       "200     5400      23          28  16845.0  \n",
       "201     5300      19          25  19045.0  \n",
       "202     5500      18          23  21485.0  \n",
       "203     4800      26          27  22470.0  \n",
       "204     5400      19          25  22625.0  \n",
       "\n",
       "[205 rows x 26 columns]>"
      ]
     },
     "execution_count": 9,
     "metadata": {},
     "output_type": "execute_result"
    }
   ],
   "source": [
    "df.info"
   ]
  },
  {
   "cell_type": "code",
   "execution_count": 11,
   "id": "422ce5d6-0f8d-4944-af3f-b08c32ddfe1e",
   "metadata": {},
   "outputs": [
    {
     "data": {
      "text/plain": [
       "<bound method NDFrame.head of      car_ID  symboling                   CarName fueltype aspiration  \\\n",
       "0         1          3        alfa-romero giulia      gas        std   \n",
       "1         2          3       alfa-romero stelvio      gas        std   \n",
       "2         3          1  alfa-romero Quadrifoglio      gas        std   \n",
       "3         4          2               audi 100 ls      gas        std   \n",
       "4         5          2                audi 100ls      gas        std   \n",
       "..      ...        ...                       ...      ...        ...   \n",
       "200     201         -1           volvo 145e (sw)      gas        std   \n",
       "201     202         -1               volvo 144ea      gas      turbo   \n",
       "202     203         -1               volvo 244dl      gas        std   \n",
       "203     204         -1                 volvo 246   diesel      turbo   \n",
       "204     205         -1               volvo 264gl      gas      turbo   \n",
       "\n",
       "    doornumber      carbody drivewheel enginelocation  wheelbase  ...  \\\n",
       "0          two  convertible        rwd          front       88.6  ...   \n",
       "1          two  convertible        rwd          front       88.6  ...   \n",
       "2          two    hatchback        rwd          front       94.5  ...   \n",
       "3         four        sedan        fwd          front       99.8  ...   \n",
       "4         four        sedan        4wd          front       99.4  ...   \n",
       "..         ...          ...        ...            ...        ...  ...   \n",
       "200       four        sedan        rwd          front      109.1  ...   \n",
       "201       four        sedan        rwd          front      109.1  ...   \n",
       "202       four        sedan        rwd          front      109.1  ...   \n",
       "203       four        sedan        rwd          front      109.1  ...   \n",
       "204       four        sedan        rwd          front      109.1  ...   \n",
       "\n",
       "     enginesize  fuelsystem  boreratio  stroke compressionratio horsepower  \\\n",
       "0           130        mpfi       3.47    2.68              9.0        111   \n",
       "1           130        mpfi       3.47    2.68              9.0        111   \n",
       "2           152        mpfi       2.68    3.47              9.0        154   \n",
       "3           109        mpfi       3.19    3.40             10.0        102   \n",
       "4           136        mpfi       3.19    3.40              8.0        115   \n",
       "..          ...         ...        ...     ...              ...        ...   \n",
       "200         141        mpfi       3.78    3.15              9.5        114   \n",
       "201         141        mpfi       3.78    3.15              8.7        160   \n",
       "202         173        mpfi       3.58    2.87              8.8        134   \n",
       "203         145         idi       3.01    3.40             23.0        106   \n",
       "204         141        mpfi       3.78    3.15              9.5        114   \n",
       "\n",
       "     peakrpm citympg  highwaympg    price  \n",
       "0       5000      21          27  13495.0  \n",
       "1       5000      21          27  16500.0  \n",
       "2       5000      19          26  16500.0  \n",
       "3       5500      24          30  13950.0  \n",
       "4       5500      18          22  17450.0  \n",
       "..       ...     ...         ...      ...  \n",
       "200     5400      23          28  16845.0  \n",
       "201     5300      19          25  19045.0  \n",
       "202     5500      18          23  21485.0  \n",
       "203     4800      26          27  22470.0  \n",
       "204     5400      19          25  22625.0  \n",
       "\n",
       "[205 rows x 26 columns]>"
      ]
     },
     "execution_count": 11,
     "metadata": {},
     "output_type": "execute_result"
    }
   ],
   "source": [
    "df.head"
   ]
  },
  {
   "cell_type": "code",
   "execution_count": 13,
   "id": "96ee9a2a-53e6-4321-a147-c453155f93a8",
   "metadata": {},
   "outputs": [
    {
     "data": {
      "text/plain": [
       "<bound method NDFrame.tail of      car_ID  symboling                   CarName fueltype aspiration  \\\n",
       "0         1          3        alfa-romero giulia      gas        std   \n",
       "1         2          3       alfa-romero stelvio      gas        std   \n",
       "2         3          1  alfa-romero Quadrifoglio      gas        std   \n",
       "3         4          2               audi 100 ls      gas        std   \n",
       "4         5          2                audi 100ls      gas        std   \n",
       "..      ...        ...                       ...      ...        ...   \n",
       "200     201         -1           volvo 145e (sw)      gas        std   \n",
       "201     202         -1               volvo 144ea      gas      turbo   \n",
       "202     203         -1               volvo 244dl      gas        std   \n",
       "203     204         -1                 volvo 246   diesel      turbo   \n",
       "204     205         -1               volvo 264gl      gas      turbo   \n",
       "\n",
       "    doornumber      carbody drivewheel enginelocation  wheelbase  ...  \\\n",
       "0          two  convertible        rwd          front       88.6  ...   \n",
       "1          two  convertible        rwd          front       88.6  ...   \n",
       "2          two    hatchback        rwd          front       94.5  ...   \n",
       "3         four        sedan        fwd          front       99.8  ...   \n",
       "4         four        sedan        4wd          front       99.4  ...   \n",
       "..         ...          ...        ...            ...        ...  ...   \n",
       "200       four        sedan        rwd          front      109.1  ...   \n",
       "201       four        sedan        rwd          front      109.1  ...   \n",
       "202       four        sedan        rwd          front      109.1  ...   \n",
       "203       four        sedan        rwd          front      109.1  ...   \n",
       "204       four        sedan        rwd          front      109.1  ...   \n",
       "\n",
       "     enginesize  fuelsystem  boreratio  stroke compressionratio horsepower  \\\n",
       "0           130        mpfi       3.47    2.68              9.0        111   \n",
       "1           130        mpfi       3.47    2.68              9.0        111   \n",
       "2           152        mpfi       2.68    3.47              9.0        154   \n",
       "3           109        mpfi       3.19    3.40             10.0        102   \n",
       "4           136        mpfi       3.19    3.40              8.0        115   \n",
       "..          ...         ...        ...     ...              ...        ...   \n",
       "200         141        mpfi       3.78    3.15              9.5        114   \n",
       "201         141        mpfi       3.78    3.15              8.7        160   \n",
       "202         173        mpfi       3.58    2.87              8.8        134   \n",
       "203         145         idi       3.01    3.40             23.0        106   \n",
       "204         141        mpfi       3.78    3.15              9.5        114   \n",
       "\n",
       "     peakrpm citympg  highwaympg    price  \n",
       "0       5000      21          27  13495.0  \n",
       "1       5000      21          27  16500.0  \n",
       "2       5000      19          26  16500.0  \n",
       "3       5500      24          30  13950.0  \n",
       "4       5500      18          22  17450.0  \n",
       "..       ...     ...         ...      ...  \n",
       "200     5400      23          28  16845.0  \n",
       "201     5300      19          25  19045.0  \n",
       "202     5500      18          23  21485.0  \n",
       "203     4800      26          27  22470.0  \n",
       "204     5400      19          25  22625.0  \n",
       "\n",
       "[205 rows x 26 columns]>"
      ]
     },
     "execution_count": 13,
     "metadata": {},
     "output_type": "execute_result"
    }
   ],
   "source": [
    "df.tail"
   ]
  },
  {
   "cell_type": "code",
   "execution_count": 19,
   "id": "097f86c5-df79-46b5-8065-ed1749421e5f",
   "metadata": {},
   "outputs": [
    {
     "data": {
      "text/plain": [
       "(205, 26)"
      ]
     },
     "execution_count": 19,
     "metadata": {},
     "output_type": "execute_result"
    }
   ],
   "source": [
    "df.shape"
   ]
  },
  {
   "cell_type": "code",
   "execution_count": 35,
   "id": "92ec193d-0eb2-4d50-8af1-18980c406cf5",
   "metadata": {},
   "outputs": [
    {
     "name": "stdout",
     "output_type": "stream",
     "text": [
      "car_ID              0\n",
      "symboling           0\n",
      "CarName             0\n",
      "fueltype            0\n",
      "aspiration          0\n",
      "doornumber          0\n",
      "carbody             0\n",
      "drivewheel          0\n",
      "enginelocation      0\n",
      "wheelbase           0\n",
      "carlength           0\n",
      "carwidth            0\n",
      "carheight           0\n",
      "curbweight          0\n",
      "enginetype          0\n",
      "cylindernumber      0\n",
      "enginesize          0\n",
      "fuelsystem          0\n",
      "boreratio           0\n",
      "stroke              0\n",
      "compressionratio    0\n",
      "horsepower          0\n",
      "peakrpm             0\n",
      "citympg             0\n",
      "highwaympg          0\n",
      "price               0\n",
      "dtype: int64\n"
     ]
    }
   ],
   "source": [
    "missing_values = df.isnull().sum()\n",
    "print(missing_values)"
   ]
  },
  {
   "cell_type": "markdown",
   "id": "97860566-7954-4ea5-ad10-8745b1406690",
   "metadata": {},
   "source": [
    " #Data Cleaning and Preprocessing"
   ]
  },
  {
   "cell_type": "code",
   "execution_count": 48,
   "id": "a3089640-1a4d-4e8b-8355-c8752d86d5bb",
   "metadata": {},
   "outputs": [],
   "source": [
    "# Handle missing values (if any) \n",
    "for col in df.select_dtypes(include=np.number).columns:\n",
    "    df[col].fillna(df[col].mean(), inplace=True) # Or median, or dropna, etc.\n"
   ]
  },
  {
   "cell_type": "code",
   "execution_count": 95,
   "id": "96477ca9-4c93-4d98-ae25-0c3a23bf2aec",
   "metadata": {},
   "outputs": [],
   "source": [
    "# One-Hot Encode CATEGORICAL features FIRST\n",
    "categorical_cols = df.select_dtypes(exclude=np.number).columns\n",
    "df = pd.get_dummies(df, columns=categorical_cols, drop_first=True)  # Key change!\n",
    "\n",
    "# Feature Scaling for NUMERICAL features SECOND\n",
    "numerical_cols = df.select_dtypes(include=np.number).columns\n",
    "scaler = StandardScaler()\n",
    "df[numerical_cols] = scaler.fit_transform(df[numerical_cols])\n"
   ]
  },
  {
   "cell_type": "code",
   "execution_count": 97,
   "id": "0823064c-ae81-4f2d-8e06-add269cfe3d1",
   "metadata": {},
   "outputs": [],
   "source": [
    "# Convert categorical features to numerical using Label Encoding or One-Hot Encoding\n",
    "categorical_cols = df.select_dtypes(exclude=np.number).columns\n",
    "for col in categorical_cols:\n",
    "    le = LabelEncoder()\n",
    "    df[col] = le.fit_transform(df[col])  # Or use pd.get_dummies for One-Hot Encoding\n"
   ]
  },
  {
   "cell_type": "code",
   "execution_count": 99,
   "id": "3c98ee85-eb37-4f54-b076-0a839243742e",
   "metadata": {},
   "outputs": [],
   "source": [
    "# Feature Scaling for numerical features (important for SVR and Gradient Boosting)\n",
    "numerical_cols = df.select_dtypes(include=np.number).columns\n",
    "scaler = StandardScaler()\n",
    "df[numerical_cols] = scaler.fit_transform(df[numerical_cols])\n"
   ]
  },
  {
   "cell_type": "code",
   "execution_count": 101,
   "id": "0a013371-6b74-47ca-a967-be57a60575a5",
   "metadata": {},
   "outputs": [],
   "source": [
    "# Define features (X) and target (y)\n",
    "X = df.drop('price', axis=1)  # Assuming 'price' is the target variable\n",
    "y = df['price']\n",
    "\n"
   ]
  },
  {
   "cell_type": "code",
   "execution_count": 103,
   "id": "56aca782-95e8-48ed-b93c-28f01c304493",
   "metadata": {},
   "outputs": [],
   "source": [
    "# Split data into training and testing sets\n",
    "X_train, X_test, y_train, y_test = train_test_split(X, y, test_size=0.2, random_state=42)  # Adjust test size as needed"
   ]
  },
  {
   "cell_type": "code",
   "execution_count": 111,
   "id": "fda1c9e4-b238-43aa-b2b1-d0ad3d437c5a",
   "metadata": {},
   "outputs": [],
   "source": [
    "# 2. Model Implementation\n",
    "models = {\n",
    "    \"Linear Regression\": LinearRegression(),\n",
    "    \"Decision Tree\": DecisionTreeRegressor(random_state=42),\n",
    "    \"Random Forest\": RandomForestRegressor(random_state=42),\n",
    "    \"Gradient Boosting\": GradientBoostingRegressor(random_state=42),\n",
    "    \"Support Vector Regression\": SVR()\n",
    "}\n",
    "\n",
    "results = {}\n",
    "for name, model in models.items():\n",
    "    model.fit(X_train, y_train)\n",
    "    y_pred = model.predict(X_test)\n",
    "    r2 = r2_score(y_test, y_pred)\n",
    "    mse = mean_squared_error(y_test, y_pred)\n",
    "    mae = mean_absolute_error(y_test, y_pred)\n",
    "    results[name] = {'r2': r2, 'mse': mse, 'mae': mae}\n",
    "  "
   ]
  },
  {
   "cell_type": "code",
   "execution_count": 113,
   "id": "6b58090f-8b22-4282-af62-34cccfa1ca7c",
   "metadata": {},
   "outputs": [
    {
     "name": "stdout",
     "output_type": "stream",
     "text": [
      "Model Evaluation:\n",
      "Linear Regression:\n",
      "  r2: -3.187310081900956e+25\n",
      "  mse: 3.961853985753371e+25\n",
      "  mae: 3080938811689.398\n",
      "--------------------\n",
      "Decision Tree:\n",
      "  r2: 0.8686457713142739\n",
      "  mse: 0.16327444179943937\n",
      "  mae: 0.25369065521628487\n",
      "--------------------\n",
      "Random Forest:\n",
      "  r2: 0.9533052290306544\n",
      "  mse: 0.05804200398613472\n",
      "  mae: 0.17418542528735687\n",
      "--------------------\n",
      "Gradient Boosting:\n",
      "  r2: 0.9326100142072609\n",
      "  mse: 0.08376633491950379\n",
      "  mae: 0.2067109922891758\n",
      "--------------------\n",
      "Support Vector Regression:\n",
      "  r2: 0.4011703465773214\n",
      "  mse: 0.7443504360218921\n",
      "  mae: 0.5519018324004277\n",
      "--------------------\n"
     ]
    }
   ],
   "source": [
    "# 3. Model Evaluation\n",
    "print(\"Model Evaluation:\")\n",
    "for name, metrics in results.items():\n",
    "    print(f\"{name}:\")\n",
    "    for metric, value in metrics.items():\n",
    "        print(f\"  {metric}: {value}\")\n",
    "    print(\"-\" * 20)"
   ]
  },
  {
   "cell_type": "code",
   "execution_count": 115,
   "id": "71d89cc7-7dff-4baa-8f41-b3dbcdfef4f8",
   "metadata": {},
   "outputs": [
    {
     "name": "stdout",
     "output_type": "stream",
     "text": [
      "Best Performing Model: Random Forest\n"
     ]
    }
   ],
   "source": [
    "# Identify the best performing model (example - based on highest R-squared)\n",
    "best_model = max(results, key=lambda k: results[k]['r2'])\n",
    "print(f\"Best Performing Model: {best_model}\")\n",
    "\n"
   ]
  },
  {
   "cell_type": "code",
   "execution_count": 117,
   "id": "5e57763c-1667-4a98-bcd3-bd12d0284002",
   "metadata": {},
   "outputs": [
    {
     "name": "stdout",
     "output_type": "stream",
     "text": [
      "\n",
      "Feature Importance (Random Forest):\n",
      "                              Feature  Importance\n",
      "7                          enginesize    0.538823\n",
      "6                          curbweight    0.295807\n",
      "14                         highwaympg    0.042438\n",
      "11                         horsepower    0.036676\n",
      "0                              car_ID    0.020347\n",
      "..                                ...         ...\n",
      "71         CarName_mazda glc custom l    0.000000\n",
      "131  CarName_toyota corolla 1600 (sw)    0.000000\n",
      "60        CarName_isuzu D-Max V-Cross    0.000000\n",
      "148         CarName_volkswagen rabbit    0.000000\n",
      "119               CarName_subaru baja    0.000000\n",
      "\n",
      "[190 rows x 2 columns]\n"
     ]
    },
    {
     "data": {
      "image/png": "[encoded data removed]",
      "text/plain": [
       "<Figure size 1000x600 with 1 Axes>"
      ]
     },
     "metadata": {},
     "output_type": "display_data"
    }
   ],
   "source": [
    "# 4. Feature Importance Analysis (Example using Random Forest - adapt for other models)\n",
    "best_model_instance = models[best_model] # Get the instance of the best model.\n",
    "if isinstance(best_model_instance, RandomForestRegressor): # Check if it is a random forest\n",
    "    feature_importances = best_model_instance.feature_importances_\n",
    "    feature_importance_df = pd.DataFrame({'Feature': X.columns, 'Importance': feature_importances})\n",
    "    feature_importance_df = feature_importance_df.sort_values(by='Importance', ascending=False)\n",
    "    print(\"\\nFeature Importance (Random Forest):\")\n",
    "    print(feature_importance_df)\n",
    "    plt.figure(figsize=(10, 6))\n",
    "    sns.barplot(x='Importance', y='Feature', data=feature_importance_df.head(10)) # Plot top 10\n",
    "    plt.title('Top 10 Feature Importances')\n",
    "    plt.show() # Display the plot\n",
    "elif hasattr(best_model_instance, 'coef_'):  # Check for linear models\n",
    "    feature_importance_df = pd.DataFrame({'Feature': X.columns, 'Importance': best_model_instance.coef_})\n",
    "    feature_importance_df = feature_importance_df.sort_values(by='Importance', ascending=False)\n",
    "    print(\"\\nFeature Importance (Linear Model):\")\n",
    "    print(feature_importance_df)\n",
    "    plt.figure(figsize=(10, 6))\n",
    "    sns.barplot(x='Importance', y='Feature', data=feature_importance_df.head(10).abs()) # Plot top 10, absolute values for linear models\n",
    "    plt.title('Top 10 Feature Importances (Absolute Values)')\n",
    "    plt.show()\n",
    "else:\n",
    "    print(\"\\nFeature importance analysis not directly available for the best model.\")\n",
    "\n"
   ]
  },
  {
   "cell_type": "code",
   "execution_count": 119,
   "id": "86dd5179-5f60-48df-89c6-a3f1c3f0c2ce",
   "metadata": {},
   "outputs": [
    {
     "name": "stdout",
     "output_type": "stream",
     "text": [
      "\n",
      "Hyperparameter Tuned Random Forest R-squared: 0.9426605298224078\n",
      "Best parameters: {'max_depth': 10, 'min_samples_split': 10, 'n_estimators': 200}\n",
      "Original Random Forest R-squared: 0.9533052290306544\n"
     ]
    }
   ],
   "source": [
    "# 5. Hyperparameter Tuning (Example using GridSearchCV with Random Forest)\n",
    "if isinstance(best_model_instance, RandomForestRegressor):\n",
    "    param_grid = {  # Example parameter grid - adjust based on the model\n",
    "        'n_estimators': [50, 100, 200],\n",
    "        'max_depth': [None, 10, 20],\n",
    "        'min_samples_split': [2, 5, 10]\n",
    "    }\n",
    "\n",
    "    grid_search = GridSearchCV(RandomForestRegressor(random_state=42), param_grid, cv=3, scoring='r2', n_jobs=-1)\n",
    "    grid_search.fit(X_train, y_train)\n",
    "\n",
    "    best_rf_model = grid_search.best_estimator_\n",
    "    y_pred_tuned = best_rf_model.predict(X_test)\n",
    "    r2_tuned = r2_score(y_test, y_pred_tuned)\n",
    "    print(f\"\\nHyperparameter Tuned Random Forest R-squared: {r2_tuned}\")\n",
    "    print(f\"Best parameters: {grid_search.best_params_}\")\n",
    "\n",
    "    # Compare performance after tuning\n",
    "    print(f\"Original Random Forest R-squared: {results['Random Forest']['r2']}\")\n",
    "elif isinstance(best_model_instance, GradientBoostingRegressor): # Example for GradientBoosting\n",
    "    param_grid = {\n",
    "        'n_estimators': [50, 100, 200],\n",
    "        'learning_rate': [0.01, 0.1, 0.5],\n",
    "        'max_depth': [3, 5, 7]\n",
    "    }\n",
    "    grid_search = GridSearchCV(GradientBoostingRegressor(random_state=42), param_grid, cv=3, scoring='r2', n_jobs=-1)\n",
    "    grid_search.fit(X_train, y_train)\n",
    "    best_gb_model = grid_search.best_estimator_\n",
    "    y_pred_tuned = best_gb_model.predict(X_test)\n",
    "    r2_tuned = r2_score(y_test, y_pred_tuned)\n",
    "    print(f\"\\nHyperparameter Tuned Gradient Boosting R-squared: {r2_tuned}\")\n",
    "    print(f\"Best parameters: {grid_search.best_params_}\")\n",
    "    print(f\"Original Gradient Boosting R-squared: {results['Gradient Boosting']['r2']}\")\n",
    "\n",
    "else:\n",
    "    print(f\"Hyperparameter tuning not implemented for {best_model}\")\n",
    "\n"
   ]
  },
  {
   "cell_type": "code",
   "execution_count": null,
   "id": "22ff32b7-8887-47de-933d-325d6bb56fd4",
   "metadata": {},
   "outputs": [],
   "source": []
  }
 ],
 "metadata": {
  "kernelspec": {
   "display_name": "Python 3 (ipykernel)",
   "language": "python",
   "name": "python3"
  },
  "language_info": {
   "codemirror_mode": {
    "name": "ipython",
    "version": 3
   },
   "file_extension": ".py",
   "mimetype": "text/x-python",
   "name": "python",
   "nbconvert_exporter": "python",
   "pygments_lexer": "ipython3",
   "version": "3.12.4"
  }
 },
 "nbformat": 4,
 "nbformat_minor": 5
}
